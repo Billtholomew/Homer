{
 "cells": [
  {
   "cell_type": "code",
   "execution_count": 1,
   "metadata": {
    "collapsed": false
   },
   "outputs": [],
   "source": [
    "import homer_db\n",
    "import pymongo\n",
    "#import pandas as pd\n",
    "import matplotlib.pyplot as plt\n",
    "import dateutil\n",
    "from collections import defaultdict"
   ]
  },
  {
   "cell_type": "markdown",
   "metadata": {},
   "source": [
    "First open a connection to pyomngo, default is localhost:27017"
   ]
  },
  {
   "cell_type": "code",
   "execution_count": 2,
   "metadata": {
    "collapsed": false
   },
   "outputs": [],
   "source": [
    "conn = pymongo.MongoClient('localhost', 27017)"
   ]
  },
  {
   "cell_type": "markdown",
   "metadata": {},
   "source": [
    "Use the cell below to re-load the sample data into the database. Using drop_all=True, all data currently in the database will be deleted and the data in 'DataEngineerSampleData.txt' will be loaded in."
   ]
  },
  {
   "cell_type": "code",
   "execution_count": null,
   "metadata": {
    "collapsed": false
   },
   "outputs": [],
   "source": [
    "confirm = raw_input('Confirm re-load data (YES/No)?')\n",
    "if confirm == 'YES':\n",
    "    homer_db.load_data('DataEngineerSampleData.txt', db=conn['homer2'], drop_all=True)"
   ]
  },
  {
   "cell_type": "code",
   "execution_count": null,
   "metadata": {
    "collapsed": true
   },
   "outputs": [],
   "source": []
  },
  {
   "cell_type": "code",
   "execution_count": 5,
   "metadata": {
    "collapsed": false
   },
   "outputs": [],
   "source": [
    "pipeline = [\n",
    "    {'$match': {'age': {'$gte': 0, '$lte': 100}, 'name': {'$exists': True}}},\n",
    "    {'$group': {'_id': '$age', 'count': {'$sum': 1}}},  # get how many of each age there are\n",
    "    {'$sort': {'age': 1}}\n",
    "]\n",
    "age_counts = conn['homer2']['users'].aggregate(pipeline)\n",
    "ages, counts = zip(*[(age_count['_id'], age_count['count']) for age_count in age_counts])\n",
    "plt.bar(ages, counts)\n",
    "plt.title('Age Distribution')\n",
    "plt.xlabel('Age')\n",
    "plt.ylabel('Count')\n",
    "plt.show()"
   ]
  },
  {
   "cell_type": "code",
   "execution_count": null,
   "metadata": {
    "collapsed": false
   },
   "outputs": [],
   "source": [
    "pipeline = [\n",
    "        {'$match': {'age': {'$gte': 0, '$lte': 100}, 'name': {'$exists': 'true'}}},\n",
    "        {'$group': {'_id': '$age', 'count': {'$sum': 1}}},  # get how many of each age there are\n",
    "        {'$sort': {'age': 1}}\n",
    "    ]\n",
    "db = conn['homer']\n",
    "age_counts = db['events'].aggregate(pipeline)\n",
    "age_counts = [(age_count['_id'], age_count['count']) for age_count in age_counts]\n",
    "df = pd.DataFrame(age_counts)\n",
    "df = df.rename(columns={0: 'Age', 1: 'Count'})"
   ]
  },
  {
   "cell_type": "code",
   "execution_count": null,
   "metadata": {
    "collapsed": false
   },
   "outputs": [],
   "source": [
    "df.loc[df['Count'].idxmax()]"
   ]
  },
  {
   "cell_type": "code",
   "execution_count": null,
   "metadata": {
    "collapsed": false
   },
   "outputs": [],
   "source": [
    "df2 = df[df['Age'] > 0]\n",
    "df2 = df2[df2['Age'] < 10]\n",
    "unclean_mean = df['Age'].mean()\n",
    "unclean_std = df['Age'].std()\n",
    "clean_mean = df2['Age'].mean()\n",
    "clean_std = df2['Age'].std()"
   ]
  },
  {
   "cell_type": "code",
   "execution_count": null,
   "metadata": {
    "collapsed": false
   },
   "outputs": [],
   "source": [
    "plt.bar(df['Age'], df['Count'])\n",
    "plt.title('Age Distribution')\n",
    "plt.xlabel('Age')\n",
    "plt.ylabel('Count')\n",
    "plt.show()"
   ]
  },
  {
   "cell_type": "code",
   "execution_count": null,
   "metadata": {
    "collapsed": false
   },
   "outputs": [],
   "source": [
    "session_times = get_lesson_histogram(conn['homer'])"
   ]
  },
  {
   "cell_type": "code",
   "execution_count": null,
   "metadata": {
    "collapsed": true
   },
   "outputs": [],
   "source": [
    "def get_lesson_histogram(db, unit_category=['LTR', 'DTW']):\n",
    "    from random import random\n",
    "    unique_users = [user['_p'] for user in db['users'].find({'age': {'$gte': 1, '$lte': 10}})]\n",
    "    session_times = defaultdict(int)\n",
    "    num_users = len(unique_users)\n",
    "    print num_users, '>', num_users * 0.025\n",
    "    for i, _p in enumerate(unique_users):\n",
    "        if random() > 0.025:\n",
    "            continue\n",
    "        for _, st in homer_db.generate_session_times(db, _p, unit_category):\n",
    "            st = st / 60 * 60\n",
    "            session_times[st] += 1\n",
    "        print (i / float(num_users)) * 100\n",
    "    return session_times"
   ]
  },
  {
   "cell_type": "code",
   "execution_count": null,
   "metadata": {
    "collapsed": false
   },
   "outputs": [],
   "source": [
    "from collections import defaultdict\n",
    "session_times_minutes = defaultdict(int)\n",
    "for k,v in session_times.iteritems():\n",
    "    k = round(k / 60) + 1\n",
    "    if k < 60:\n",
    "        session_times_minutes[k] += v"
   ]
  },
  {
   "cell_type": "code",
   "execution_count": null,
   "metadata": {
    "collapsed": false
   },
   "outputs": [],
   "source": [
    "total = sum(session_times_minutes.values())\n",
    "times, counts = zip(*[(k, v / float(total)) for k,v in session_times_minutes.iteritems()])\n",
    "plt.bar(times, counts)\n",
    "plt.title('Lesson Time Distribution')\n",
    "plt.xlabel('Time')\n",
    "plt.ylabel('Count')\n",
    "plt.show()"
   ]
  },
  {
   "cell_type": "code",
   "execution_count": null,
   "metadata": {
    "collapsed": false
   },
   "outputs": [],
   "source": [
    "target = 0.999 * total\n",
    "temp = 0\n",
    "for t in session_times_minutes.keys():\n",
    "    temp += session_times_minutes[t]\n",
    "    if temp >= target:\n",
    "        print t\n",
    "        break"
   ]
  },
  {
   "cell_type": "code",
   "execution_count": 3,
   "metadata": {
    "collapsed": false
   },
   "outputs": [
    {
     "name": "stdout",
     "output_type": "stream",
     "text": [
      "{'monthly': 89.0, 'outliers': [17, 4], 'daily': 4.0, 'weekly': 30.0}\n"
     ]
    }
   ],
   "source": [
    "print homer_db.get_average_times(conn['homer2'], 'EQYWS29T8S', count_outliers=True)"
   ]
  },
  {
   "cell_type": "code",
   "execution_count": 6,
   "metadata": {
    "collapsed": false
   },
   "outputs": [],
   "source": [
    "def get_lessons_with_ages(db):\n",
    "    pipeline = [\n",
    "        {'$match': {'age': {'$gte': 1, '$lte': 10}}},\n",
    "        {'$lookup': {'from': 'lessons', 'localField': '_p', 'foreignField': '_p', 'as': 'lessondata'}},\n",
    "        {'$project': {'age': 1, '_p': 1, 'lessondata.manuscripttitle': 1, 'lessondata.unitcategory': 1}},\n",
    "        {'$unwind': '$lessondata'},\n",
    "        {'$group': {'_id': '$age',\n",
    "                    'manuscripts': {'$addToSet': '$lessondata.manuscripttitle'},\n",
    "                    'categories': {'$addToSet': '$lessondata.unitcategory'}}}\n",
    "    ]\n",
    "    return db['users2'].aggregate(pipeline)"
   ]
  },
  {
   "cell_type": "code",
   "execution_count": null,
   "metadata": {
    "collapsed": true
   },
   "outputs": [],
   "source": [
    "lessons_by_age = get_lessons_with_ages(conn['homer2'])"
   ]
  }
 ],
 "metadata": {
  "kernelspec": {
   "display_name": "Python 2",
   "language": "python",
   "name": "python2"
  },
  "language_info": {
   "codemirror_mode": {
    "name": "ipython",
    "version": 2
   },
   "file_extension": ".py",
   "mimetype": "text/x-python",
   "name": "python",
   "nbconvert_exporter": "python",
   "pygments_lexer": "ipython2",
   "version": "2.7.6"
  }
 },
 "nbformat": 4,
 "nbformat_minor": 0
}
